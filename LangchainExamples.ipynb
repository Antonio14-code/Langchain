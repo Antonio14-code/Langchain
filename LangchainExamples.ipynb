{
  "cells": [
    {
      "cell_type": "markdown",
      "metadata": {
        "id": "view-in-github",
        "colab_type": "text"
      },
      "source": [
        "<a href=\"https://colab.research.google.com/github/Antonio14-code/Langchain/blob/main/LangchainExamples.ipynb\" target=\"_parent\"><img src=\"https://colab.research.google.com/assets/colab-badge.svg\" alt=\"Open In Colab\"/></a>"
      ]
    },
    {
      "cell_type": "markdown",
      "metadata": {
        "id": "DwSHJGHKQIzY"
      },
      "source": [
        "CODIGOS HACIENDO USO DE LANGCHAIN Y GOOGLE AI STUDIO - VERSION GEMINI 1.5"
      ]
    },
    {
      "cell_type": "markdown",
      "metadata": {
        "id": "sXoNER86QDd7"
      },
      "source": [
        "GENERADOR DE RESUMENES CON URL"
      ]
    },
    {
      "cell_type": "code",
      "execution_count": null,
      "metadata": {
        "colab": {
          "base_uri": "https://localhost:8080/"
        },
        "id": "Aqh2Rza6I2MA",
        "outputId": "7a4a682f-8be1-4fda-88bb-65032a3353bf"
      },
      "outputs": [
        {
          "name": "stdout",
          "output_type": "stream",
          "text": [
            "\u001b[?25l     \u001b[90m━━━━━━━━━━━━━━━━━━━━━━━━━━━━━━━━━━━━━━━━\u001b[0m \u001b[32m0.0/981.5 kB\u001b[0m \u001b[31m?\u001b[0m eta \u001b[36m-:--:--\u001b[0m\r\u001b[2K     \u001b[91m━━━━━━━━━━━━━━━━━━━━━━━━━━━━━━━━━━━━━━━\u001b[0m\u001b[91m╸\u001b[0m \u001b[32m972.8/981.5 kB\u001b[0m \u001b[31m35.6 MB/s\u001b[0m eta \u001b[36m0:00:01\u001b[0m\r\u001b[2K     \u001b[90m━━━━━━━━━━━━━━━━━━━━━━━━━━━━━━━━━━━━━━━━\u001b[0m \u001b[32m981.5/981.5 kB\u001b[0m \u001b[31m19.9 MB/s\u001b[0m eta \u001b[36m0:00:00\u001b[0m\n",
            "\u001b[?25h  Preparing metadata (setup.py) ... \u001b[?25l\u001b[?25hdone\n",
            "\u001b[2K   \u001b[90m━━━━━━━━━━━━━━━━━━━━━━━━━━━━━━━━━━━━━━━━\u001b[0m \u001b[32m1.8/1.8 MB\u001b[0m \u001b[31m34.9 MB/s\u001b[0m eta \u001b[36m0:00:00\u001b[0m\n",
            "\u001b[2K   \u001b[90m━━━━━━━━━━━━━━━━━━━━━━━━━━━━━━━━━━━━━━━━\u001b[0m \u001b[32m590.6/590.6 kB\u001b[0m \u001b[31m19.8 MB/s\u001b[0m eta \u001b[36m0:00:00\u001b[0m\n",
            "\u001b[2K   \u001b[90m━━━━━━━━━━━━━━━━━━━━━━━━━━━━━━━━━━━━━━━━\u001b[0m \u001b[32m167.6/167.6 kB\u001b[0m \u001b[31m9.4 MB/s\u001b[0m eta \u001b[36m0:00:00\u001b[0m\n",
            "\u001b[2K   \u001b[90m━━━━━━━━━━━━━━━━━━━━━━━━━━━━━━━━━━━━━━━━\u001b[0m \u001b[32m3.1/3.1 MB\u001b[0m \u001b[31m74.2 MB/s\u001b[0m eta \u001b[36m0:00:00\u001b[0m\n",
            "\u001b[2K   \u001b[90m━━━━━━━━━━━━━━━━━━━━━━━━━━━━━━━━━━━━━━━━\u001b[0m \u001b[32m175.8/175.8 kB\u001b[0m \u001b[31m10.8 MB/s\u001b[0m eta \u001b[36m0:00:00\u001b[0m\n",
            "\u001b[2K   \u001b[90m━━━━━━━━━━━━━━━━━━━━━━━━━━━━━━━━━━━━━━━━\u001b[0m \u001b[32m302.3/302.3 kB\u001b[0m \u001b[31m17.8 MB/s\u001b[0m eta \u001b[36m0:00:00\u001b[0m\n",
            "\u001b[2K   \u001b[90m━━━━━━━━━━━━━━━━━━━━━━━━━━━━━━━━━━━━━━━━\u001b[0m \u001b[32m114.6/114.6 kB\u001b[0m \u001b[31m7.3 MB/s\u001b[0m eta \u001b[36m0:00:00\u001b[0m\n",
            "\u001b[?25h  Building wheel for langdetect (setup.py) ... \u001b[?25l\u001b[?25hdone\n"
          ]
        }
      ],
      "source": [
        "%pip install --upgrade --quiet langchain-core langchain-google-vertexai langchain unstructured"
      ]
    },
    {
      "cell_type": "code",
      "execution_count": null,
      "metadata": {
        "id": "w-6lHRxpJKT8"
      },
      "outputs": [],
      "source": [
        "import google.generativeai as genai\n",
        "import requests\n",
        "from bs4 import BeautifulSoup"
      ]
    },
    {
      "cell_type": "code",
      "execution_count": null,
      "metadata": {
        "id": "YrDHVjdeJRqs"
      },
      "outputs": [],
      "source": [
        "genai.configure(api_key=\"TU API KEY AQUI\")"
      ]
    },
    {
      "cell_type": "code",
      "execution_count": null,
      "metadata": {
        "colab": {
          "base_uri": "https://localhost:8080/",
          "height": 211
        },
        "id": "q1JdVXOhJ7s3",
        "outputId": "9aa37d9a-7c9c-43a7-cde5-437e5402769c"
      },
      "outputs": [
        {
          "name": "stdout",
          "output_type": "stream",
          "text": [
            "Ingresa el enlace web que deseas resumir: https://www.infobae.com/peru/2024/09/12/biografia-de-alberto-fujimori-llegada-a-la-presidencia-corrupcion-renuncia-por-fax-y-otros-sucesos-de-su-vida/\n",
            "\n",
            "Obteniendo contenido de la página...\n",
            "\n",
            "Generando resumen con Gemini...\n",
            "\n",
            "Resumen generado:\n",
            "\n",
            "Alberto Fujimori, expresidente de Perú, falleció a los 86 años dejando un legado complejo y controvertido.  Su gobierno (1990-2000) se caracterizó por reformas económicas neoliberales que estabilizaron la economía tras una hiperinflación, pero también por graves violaciones de derechos humanos, incluyendo esterilizaciones forzadas y represión violenta, orquestadas con la ayuda de Vladimiro Montesinos, su jefe de inteligencia.  Tras huir a Japón y renunciar por fax en 2000, fue extraditado desde Chile en 2005 y condenado en 2009 a 25 años de prisión por crímenes de lesa humanidad y corrupción.  Aunque liberado en 2023, su figura continúa polarizando a la sociedad peruana, con defensores que destacan sus logros económicos y la lucha contra el terrorismo, y detractores que lo consideran un dictador.  Su muerte marca el fin de una era, pero el debate sobre su impacto en la historia de Perú persiste.\n",
            "\n"
          ]
        }
      ],
      "source": [
        "def obtener_contenido_web(url):\n",
        "    \"\"\"Descarga y extrae el texto de una página web.\"\"\"\n",
        "    try:\n",
        "        response = requests.get(url, timeout=10)\n",
        "        response.raise_for_status()\n",
        "        soup = BeautifulSoup(response.text, \"html.parser\")\n",
        "        texto = ' '.join([p.get_text() for p in soup.find_all(\"p\")])\n",
        "        return texto if texto else \"No se encontró contenido en la página.\"\n",
        "    except requests.exceptions.RequestException as e:\n",
        "        return f\"Error al obtener la página: {e}\"\n",
        "\n",
        "def resumir_texto(texto):\n",
        "    \"\"\"Resume el texto usando el modelo Gemini de Google AI.\"\"\"\n",
        "    try:\n",
        "        model = genai.GenerativeModel(\"gemini-1.5-pro\")\n",
        "        response = model.generate_content(f\"Resume el siguiente texto:\\n\\n{texto}\")\n",
        "        return response.text if response else \"No se pudo generar un resumen.\"\n",
        "    except Exception as e:\n",
        "        return f\"Error al generar resumen: {e}\"\n",
        "\n",
        "def resumir_enlace_web():\n",
        "    \"\"\"Solicita un enlace web al usuario, extrae su contenido y lo resume.\"\"\"\n",
        "    enlace_web = input(\"Ingresa el enlace web que deseas resumir: \").strip()\n",
        "\n",
        "    print(\"\\nObteniendo contenido de la página...\")\n",
        "    texto = obtener_contenido_web(enlace_web)\n",
        "\n",
        "    if \"Error\" in texto:\n",
        "        print(texto)\n",
        "        return\n",
        "\n",
        "    print(\"\\nGenerando resumen con Gemini...\")\n",
        "    resumen = resumir_texto(texto)\n",
        "\n",
        "    print(\"\\nResumen generado:\\n\")\n",
        "    print(resumen)\n",
        "\n",
        "# Llamar a la función para iniciar el proceso\n",
        "resumir_enlace_web()"
      ]
    },
    {
      "cell_type": "markdown",
      "metadata": {
        "id": "Bgef0XNBP-70"
      },
      "source": [
        "GENERADOR DE RESUMENES CON PDF"
      ]
    },
    {
      "cell_type": "code",
      "execution_count": null,
      "metadata": {
        "colab": {
          "base_uri": "https://localhost:8080/"
        },
        "id": "ZlnHjO5QO9BB",
        "outputId": "faf2d62b-1300-43ed-c5ee-78540c74487e"
      },
      "outputs": [
        {
          "name": "stdout",
          "output_type": "stream",
          "text": [
            "\u001b[?25l   \u001b[90m━━━━━━━━━━━━━━━━━━━━━━━━━━━━━━━━━━━━━━━━\u001b[0m \u001b[32m0.0/42.3 kB\u001b[0m \u001b[31m?\u001b[0m eta \u001b[36m-:--:--\u001b[0m\r\u001b[2K   \u001b[90m━━━━━━━━━━━━━━━━━━━━━━━━━━━━━━━━━━━━━━━━\u001b[0m \u001b[32m42.3/42.3 kB\u001b[0m \u001b[31m2.7 MB/s\u001b[0m eta \u001b[36m0:00:00\u001b[0m\n",
            "\u001b[?25h"
          ]
        }
      ],
      "source": [
        "!pip install --quiet langchain langchain-community google-generativeai pypdf deep_translator"
      ]
    },
    {
      "cell_type": "code",
      "execution_count": null,
      "metadata": {
        "id": "Mpxty1fwPGrf"
      },
      "outputs": [],
      "source": [
        "from langchain_community.document_loaders import PyPDFLoader\n",
        "import google.generativeai as genai\n",
        "from google.colab import files\n",
        "from deep_translator import GoogleTranslator"
      ]
    },
    {
      "cell_type": "code",
      "execution_count": null,
      "metadata": {
        "id": "E5Y7o6qsPZ-G"
      },
      "outputs": [],
      "source": [
        "genai.configure(api_key=\"TU API KEY AQUI\")"
      ]
    },
    {
      "cell_type": "code",
      "execution_count": null,
      "metadata": {
        "colab": {
          "background_save": true,
          "base_uri": "https://localhost:8080/",
          "height": 73
        },
        "id": "oAreZtI0PZt6",
        "outputId": "9d85f718-e110-4b85-8758-4ebddd5ee519"
      },
      "outputs": [
        {
          "name": "stdout",
          "output_type": "stream",
          "text": [
            "Por favor, sube un archivo PDF.\n"
          ]
        },
        {
          "data": {
            "text/html": [
              "\n",
              "     <input type=\"file\" id=\"files-c850d8a9-7f9f-404e-9eb5-35d2eecdae29\" name=\"files[]\" multiple disabled\n",
              "        style=\"border:none\" />\n",
              "     <output id=\"result-c850d8a9-7f9f-404e-9eb5-35d2eecdae29\">\n",
              "      Upload widget is only available when the cell has been executed in the\n",
              "      current browser session. Please rerun this cell to enable.\n",
              "      </output>\n",
              "      <script>// Copyright 2017 Google LLC\n",
              "//\n",
              "// Licensed under the Apache License, Version 2.0 (the \"License\");\n",
              "// you may not use this file except in compliance with the License.\n",
              "// You may obtain a copy of the License at\n",
              "//\n",
              "//      http://www.apache.org/licenses/LICENSE-2.0\n",
              "//\n",
              "// Unless required by applicable law or agreed to in writing, software\n",
              "// distributed under the License is distributed on an \"AS IS\" BASIS,\n",
              "// WITHOUT WARRANTIES OR CONDITIONS OF ANY KIND, either express or implied.\n",
              "// See the License for the specific language governing permissions and\n",
              "// limitations under the License.\n",
              "\n",
              "/**\n",
              " * @fileoverview Helpers for google.colab Python module.\n",
              " */\n",
              "(function(scope) {\n",
              "function span(text, styleAttributes = {}) {\n",
              "  const element = document.createElement('span');\n",
              "  element.textContent = text;\n",
              "  for (const key of Object.keys(styleAttributes)) {\n",
              "    element.style[key] = styleAttributes[key];\n",
              "  }\n",
              "  return element;\n",
              "}\n",
              "\n",
              "// Max number of bytes which will be uploaded at a time.\n",
              "const MAX_PAYLOAD_SIZE = 100 * 1024;\n",
              "\n",
              "function _uploadFiles(inputId, outputId) {\n",
              "  const steps = uploadFilesStep(inputId, outputId);\n",
              "  const outputElement = document.getElementById(outputId);\n",
              "  // Cache steps on the outputElement to make it available for the next call\n",
              "  // to uploadFilesContinue from Python.\n",
              "  outputElement.steps = steps;\n",
              "\n",
              "  return _uploadFilesContinue(outputId);\n",
              "}\n",
              "\n",
              "// This is roughly an async generator (not supported in the browser yet),\n",
              "// where there are multiple asynchronous steps and the Python side is going\n",
              "// to poll for completion of each step.\n",
              "// This uses a Promise to block the python side on completion of each step,\n",
              "// then passes the result of the previous step as the input to the next step.\n",
              "function _uploadFilesContinue(outputId) {\n",
              "  const outputElement = document.getElementById(outputId);\n",
              "  const steps = outputElement.steps;\n",
              "\n",
              "  const next = steps.next(outputElement.lastPromiseValue);\n",
              "  return Promise.resolve(next.value.promise).then((value) => {\n",
              "    // Cache the last promise value to make it available to the next\n",
              "    // step of the generator.\n",
              "    outputElement.lastPromiseValue = value;\n",
              "    return next.value.response;\n",
              "  });\n",
              "}\n",
              "\n",
              "/**\n",
              " * Generator function which is called between each async step of the upload\n",
              " * process.\n",
              " * @param {string} inputId Element ID of the input file picker element.\n",
              " * @param {string} outputId Element ID of the output display.\n",
              " * @return {!Iterable<!Object>} Iterable of next steps.\n",
              " */\n",
              "function* uploadFilesStep(inputId, outputId) {\n",
              "  const inputElement = document.getElementById(inputId);\n",
              "  inputElement.disabled = false;\n",
              "\n",
              "  const outputElement = document.getElementById(outputId);\n",
              "  outputElement.innerHTML = '';\n",
              "\n",
              "  const pickedPromise = new Promise((resolve) => {\n",
              "    inputElement.addEventListener('change', (e) => {\n",
              "      resolve(e.target.files);\n",
              "    });\n",
              "  });\n",
              "\n",
              "  const cancel = document.createElement('button');\n",
              "  inputElement.parentElement.appendChild(cancel);\n",
              "  cancel.textContent = 'Cancel upload';\n",
              "  const cancelPromise = new Promise((resolve) => {\n",
              "    cancel.onclick = () => {\n",
              "      resolve(null);\n",
              "    };\n",
              "  });\n",
              "\n",
              "  // Wait for the user to pick the files.\n",
              "  const files = yield {\n",
              "    promise: Promise.race([pickedPromise, cancelPromise]),\n",
              "    response: {\n",
              "      action: 'starting',\n",
              "    }\n",
              "  };\n",
              "\n",
              "  cancel.remove();\n",
              "\n",
              "  // Disable the input element since further picks are not allowed.\n",
              "  inputElement.disabled = true;\n",
              "\n",
              "  if (!files) {\n",
              "    return {\n",
              "      response: {\n",
              "        action: 'complete',\n",
              "      }\n",
              "    };\n",
              "  }\n",
              "\n",
              "  for (const file of files) {\n",
              "    const li = document.createElement('li');\n",
              "    li.append(span(file.name, {fontWeight: 'bold'}));\n",
              "    li.append(span(\n",
              "        `(${file.type || 'n/a'}) - ${file.size} bytes, ` +\n",
              "        `last modified: ${\n",
              "            file.lastModifiedDate ? file.lastModifiedDate.toLocaleDateString() :\n",
              "                                    'n/a'} - `));\n",
              "    const percent = span('0% done');\n",
              "    li.appendChild(percent);\n",
              "\n",
              "    outputElement.appendChild(li);\n",
              "\n",
              "    const fileDataPromise = new Promise((resolve) => {\n",
              "      const reader = new FileReader();\n",
              "      reader.onload = (e) => {\n",
              "        resolve(e.target.result);\n",
              "      };\n",
              "      reader.readAsArrayBuffer(file);\n",
              "    });\n",
              "    // Wait for the data to be ready.\n",
              "    let fileData = yield {\n",
              "      promise: fileDataPromise,\n",
              "      response: {\n",
              "        action: 'continue',\n",
              "      }\n",
              "    };\n",
              "\n",
              "    // Use a chunked sending to avoid message size limits. See b/62115660.\n",
              "    let position = 0;\n",
              "    do {\n",
              "      const length = Math.min(fileData.byteLength - position, MAX_PAYLOAD_SIZE);\n",
              "      const chunk = new Uint8Array(fileData, position, length);\n",
              "      position += length;\n",
              "\n",
              "      const base64 = btoa(String.fromCharCode.apply(null, chunk));\n",
              "      yield {\n",
              "        response: {\n",
              "          action: 'append',\n",
              "          file: file.name,\n",
              "          data: base64,\n",
              "        },\n",
              "      };\n",
              "\n",
              "      let percentDone = fileData.byteLength === 0 ?\n",
              "          100 :\n",
              "          Math.round((position / fileData.byteLength) * 100);\n",
              "      percent.textContent = `${percentDone}% done`;\n",
              "\n",
              "    } while (position < fileData.byteLength);\n",
              "  }\n",
              "\n",
              "  // All done.\n",
              "  yield {\n",
              "    response: {\n",
              "      action: 'complete',\n",
              "    }\n",
              "  };\n",
              "}\n",
              "\n",
              "scope.google = scope.google || {};\n",
              "scope.google.colab = scope.google.colab || {};\n",
              "scope.google.colab._files = {\n",
              "  _uploadFiles,\n",
              "  _uploadFilesContinue,\n",
              "};\n",
              "})(self);\n",
              "</script> "
            ],
            "text/plain": [
              "<IPython.core.display.HTML object>"
            ]
          },
          "metadata": {},
          "output_type": "display_data"
        }
      ],
      "source": [
        "def subir_pdf():\n",
        "    \"\"\"Permite al usuario subir un archivo PDF en Google Colab.\"\"\"\n",
        "    print(\"Por favor, sube un archivo PDF.\")\n",
        "    archivo = files.upload()  # Sube el archivo PDF\n",
        "    nombre_archivo = list(archivo.keys())[0]  # Obtener el nombre del archivo\n",
        "    print(f\"Archivo '{nombre_archivo}' subido exitosamente.\")\n",
        "    return nombre_archivo\n",
        "\n",
        "def extraer_texto_pdf(ruta_pdf):\n",
        "    \"\"\"Extrae el texto de un archivo PDF usando LangChain.\"\"\"\n",
        "    try:\n",
        "        loader = PyPDFLoader(ruta_pdf)\n",
        "        paginas = loader.load()  # Cargar todas las páginas del PDF\n",
        "        texto = \"\\n\".join([pagina.page_content for pagina in paginas])  # Extraer el texto\n",
        "        return texto if texto.strip() else \"No se encontró texto en el PDF.\"\n",
        "    except Exception as e:\n",
        "        return f\"Error al leer el PDF: {e}\"\n",
        "\n",
        "def resumir_texto(texto):\n",
        "    \"\"\"Resume el texto usando el modelo Gemini de Google AI.\"\"\"\n",
        "    try:\n",
        "        model = genai.GenerativeModel(\"gemini-1.5-pro\")\n",
        "        response = model.generate_content(f\"Resume el siguiente texto:\\n\\n{texto}\")\n",
        "        return response.text if response else \"No se pudo generar un resumen.\"\n",
        "    except Exception as e:\n",
        "        return f\"Error al generar resumen: {e}\"\n",
        "\n",
        "def traducir_texto(texto, idioma_destino):\n",
        "    \"\"\"Traduce el texto al idioma deseado usando Google Translator.\"\"\"\n",
        "    try:\n",
        "        traductor = GoogleTranslator(source=\"auto\", target=idioma_destino)\n",
        "        return traductor.translate(texto)\n",
        "    except Exception as e:\n",
        "        return f\"Error al traducir: {e}\"\n",
        "\n",
        "def resumir_pdf():\n",
        "    \"\"\"Sube un PDF, extrae su texto, resume y traduce si es necesario.\"\"\"\n",
        "    ruta_pdf = subir_pdf()\n",
        "    print(\"\\nExtrayendo texto del PDF...\")\n",
        "    texto = extraer_texto_pdf(ruta_pdf)\n",
        "\n",
        "    if \"Error\" in texto:\n",
        "        print(texto)\n",
        "        return\n",
        "\n",
        "    print(\"\\nGenerando resumen con Gemini...\")\n",
        "    resumen = resumir_texto(texto)\n",
        "\n",
        "    print(\"\\n¿En qué idioma deseas el resumen? (Ejemplo: 'es' para español, 'en' para inglés, 'fr' para francés)\")\n",
        "    idioma_destino = input(\"Código de idioma: \").strip().lower()\n",
        "\n",
        "    if idioma_destino != \"es\":  # Si no es español, lo traduce\n",
        "        resumen = traducir_texto(resumen, idioma_destino)\n",
        "\n",
        "    print(\"\\nResumen final:\\n\")\n",
        "    print(resumen)\n",
        "\n",
        "# Llamar a la función para iniciar el proceso\n",
        "resumir_pdf()"
      ]
    },
    {
      "cell_type": "code",
      "execution_count": null,
      "metadata": {
        "id": "__6dYZJ9ZKhW"
      },
      "outputs": [],
      "source": [
        "!pip install --quiet langchain langchain-google-vertexai pypdf langdetect google-generativeai"
      ]
    },
    {
      "cell_type": "code",
      "execution_count": null,
      "metadata": {
        "id": "0aOUG10tZTC-"
      },
      "outputs": [],
      "source": [
        "from langchain_community.document_loaders import PyPDFLoader\n",
        "from langchain_google_vertexai import ChatVertexAI\n",
        "from langchain_core.messages import HumanMessage\n",
        "from google.colab import files\n",
        "from langdetect import detect"
      ]
    },
    {
      "cell_type": "code",
      "execution_count": null,
      "metadata": {
        "id": "fGyBs3XSaJEo"
      },
      "outputs": [],
      "source": [
        "import sys\n",
        "\n",
        "# Additional authentication is required for Google Colab\n",
        "if \"google.colab\" in sys.modules:\n",
        "    # Authenticate user to Google Cloud\n",
        "    from google.colab import auth\n",
        "\n",
        "    auth.authenticate_user()"
      ]
    },
    {
      "cell_type": "code",
      "execution_count": null,
      "metadata": {
        "id": "ygDF4guKZrsh"
      },
      "outputs": [],
      "source": [
        "import vertexai\n",
        "\n",
        "PROJECT_ID = \"TU ID DE VERTEX\"\n",
        "REGION = \"us-central1\"\n",
        "\n",
        "# Inicializar Vertex AI\n",
        "vertexai.init(project=PROJECT_ID, location=REGION)"
      ]
    },
    {
      "cell_type": "code",
      "execution_count": null,
      "metadata": {
        "id": "taSVsZgpZUmz"
      },
      "outputs": [],
      "source": [
        "llm = ChatVertexAI(model=\"gemini-1.5-pro\")"
      ]
    },
    {
      "cell_type": "code",
      "execution_count": null,
      "metadata": {
        "colab": {
          "base_uri": "https://localhost:8080/",
          "height": 405
        },
        "id": "WvVghkGNZYE3",
        "outputId": "f64d0e78-5696-4a59-9cd5-d91a45be7bb5"
      },
      "outputs": [
        {
          "name": "stdout",
          "output_type": "stream",
          "text": [
            "Por favor, sube un archivo PDF.\n"
          ]
        },
        {
          "data": {
            "text/html": [
              "\n",
              "     <input type=\"file\" id=\"files-62c203fd-44fc-428d-861a-3d7b2fc72e0b\" name=\"files[]\" multiple disabled\n",
              "        style=\"border:none\" />\n",
              "     <output id=\"result-62c203fd-44fc-428d-861a-3d7b2fc72e0b\">\n",
              "      Upload widget is only available when the cell has been executed in the\n",
              "      current browser session. Please rerun this cell to enable.\n",
              "      </output>\n",
              "      <script>// Copyright 2017 Google LLC\n",
              "//\n",
              "// Licensed under the Apache License, Version 2.0 (the \"License\");\n",
              "// you may not use this file except in compliance with the License.\n",
              "// You may obtain a copy of the License at\n",
              "//\n",
              "//      http://www.apache.org/licenses/LICENSE-2.0\n",
              "//\n",
              "// Unless required by applicable law or agreed to in writing, software\n",
              "// distributed under the License is distributed on an \"AS IS\" BASIS,\n",
              "// WITHOUT WARRANTIES OR CONDITIONS OF ANY KIND, either express or implied.\n",
              "// See the License for the specific language governing permissions and\n",
              "// limitations under the License.\n",
              "\n",
              "/**\n",
              " * @fileoverview Helpers for google.colab Python module.\n",
              " */\n",
              "(function(scope) {\n",
              "function span(text, styleAttributes = {}) {\n",
              "  const element = document.createElement('span');\n",
              "  element.textContent = text;\n",
              "  for (const key of Object.keys(styleAttributes)) {\n",
              "    element.style[key] = styleAttributes[key];\n",
              "  }\n",
              "  return element;\n",
              "}\n",
              "\n",
              "// Max number of bytes which will be uploaded at a time.\n",
              "const MAX_PAYLOAD_SIZE = 100 * 1024;\n",
              "\n",
              "function _uploadFiles(inputId, outputId) {\n",
              "  const steps = uploadFilesStep(inputId, outputId);\n",
              "  const outputElement = document.getElementById(outputId);\n",
              "  // Cache steps on the outputElement to make it available for the next call\n",
              "  // to uploadFilesContinue from Python.\n",
              "  outputElement.steps = steps;\n",
              "\n",
              "  return _uploadFilesContinue(outputId);\n",
              "}\n",
              "\n",
              "// This is roughly an async generator (not supported in the browser yet),\n",
              "// where there are multiple asynchronous steps and the Python side is going\n",
              "// to poll for completion of each step.\n",
              "// This uses a Promise to block the python side on completion of each step,\n",
              "// then passes the result of the previous step as the input to the next step.\n",
              "function _uploadFilesContinue(outputId) {\n",
              "  const outputElement = document.getElementById(outputId);\n",
              "  const steps = outputElement.steps;\n",
              "\n",
              "  const next = steps.next(outputElement.lastPromiseValue);\n",
              "  return Promise.resolve(next.value.promise).then((value) => {\n",
              "    // Cache the last promise value to make it available to the next\n",
              "    // step of the generator.\n",
              "    outputElement.lastPromiseValue = value;\n",
              "    return next.value.response;\n",
              "  });\n",
              "}\n",
              "\n",
              "/**\n",
              " * Generator function which is called between each async step of the upload\n",
              " * process.\n",
              " * @param {string} inputId Element ID of the input file picker element.\n",
              " * @param {string} outputId Element ID of the output display.\n",
              " * @return {!Iterable<!Object>} Iterable of next steps.\n",
              " */\n",
              "function* uploadFilesStep(inputId, outputId) {\n",
              "  const inputElement = document.getElementById(inputId);\n",
              "  inputElement.disabled = false;\n",
              "\n",
              "  const outputElement = document.getElementById(outputId);\n",
              "  outputElement.innerHTML = '';\n",
              "\n",
              "  const pickedPromise = new Promise((resolve) => {\n",
              "    inputElement.addEventListener('change', (e) => {\n",
              "      resolve(e.target.files);\n",
              "    });\n",
              "  });\n",
              "\n",
              "  const cancel = document.createElement('button');\n",
              "  inputElement.parentElement.appendChild(cancel);\n",
              "  cancel.textContent = 'Cancel upload';\n",
              "  const cancelPromise = new Promise((resolve) => {\n",
              "    cancel.onclick = () => {\n",
              "      resolve(null);\n",
              "    };\n",
              "  });\n",
              "\n",
              "  // Wait for the user to pick the files.\n",
              "  const files = yield {\n",
              "    promise: Promise.race([pickedPromise, cancelPromise]),\n",
              "    response: {\n",
              "      action: 'starting',\n",
              "    }\n",
              "  };\n",
              "\n",
              "  cancel.remove();\n",
              "\n",
              "  // Disable the input element since further picks are not allowed.\n",
              "  inputElement.disabled = true;\n",
              "\n",
              "  if (!files) {\n",
              "    return {\n",
              "      response: {\n",
              "        action: 'complete',\n",
              "      }\n",
              "    };\n",
              "  }\n",
              "\n",
              "  for (const file of files) {\n",
              "    const li = document.createElement('li');\n",
              "    li.append(span(file.name, {fontWeight: 'bold'}));\n",
              "    li.append(span(\n",
              "        `(${file.type || 'n/a'}) - ${file.size} bytes, ` +\n",
              "        `last modified: ${\n",
              "            file.lastModifiedDate ? file.lastModifiedDate.toLocaleDateString() :\n",
              "                                    'n/a'} - `));\n",
              "    const percent = span('0% done');\n",
              "    li.appendChild(percent);\n",
              "\n",
              "    outputElement.appendChild(li);\n",
              "\n",
              "    const fileDataPromise = new Promise((resolve) => {\n",
              "      const reader = new FileReader();\n",
              "      reader.onload = (e) => {\n",
              "        resolve(e.target.result);\n",
              "      };\n",
              "      reader.readAsArrayBuffer(file);\n",
              "    });\n",
              "    // Wait for the data to be ready.\n",
              "    let fileData = yield {\n",
              "      promise: fileDataPromise,\n",
              "      response: {\n",
              "        action: 'continue',\n",
              "      }\n",
              "    };\n",
              "\n",
              "    // Use a chunked sending to avoid message size limits. See b/62115660.\n",
              "    let position = 0;\n",
              "    do {\n",
              "      const length = Math.min(fileData.byteLength - position, MAX_PAYLOAD_SIZE);\n",
              "      const chunk = new Uint8Array(fileData, position, length);\n",
              "      position += length;\n",
              "\n",
              "      const base64 = btoa(String.fromCharCode.apply(null, chunk));\n",
              "      yield {\n",
              "        response: {\n",
              "          action: 'append',\n",
              "          file: file.name,\n",
              "          data: base64,\n",
              "        },\n",
              "      };\n",
              "\n",
              "      let percentDone = fileData.byteLength === 0 ?\n",
              "          100 :\n",
              "          Math.round((position / fileData.byteLength) * 100);\n",
              "      percent.textContent = `${percentDone}% done`;\n",
              "\n",
              "    } while (position < fileData.byteLength);\n",
              "  }\n",
              "\n",
              "  // All done.\n",
              "  yield {\n",
              "    response: {\n",
              "      action: 'complete',\n",
              "    }\n",
              "  };\n",
              "}\n",
              "\n",
              "scope.google = scope.google || {};\n",
              "scope.google.colab = scope.google.colab || {};\n",
              "scope.google.colab._files = {\n",
              "  _uploadFiles,\n",
              "  _uploadFilesContinue,\n",
              "};\n",
              "})(self);\n",
              "</script> "
            ],
            "text/plain": [
              "<IPython.core.display.HTML object>"
            ]
          },
          "metadata": {},
          "output_type": "display_data"
        },
        {
          "name": "stdout",
          "output_type": "stream",
          "text": [
            "Saving libro.pdf to libro (5).pdf\n",
            "Archivo 'libro (5).pdf' subido exitosamente.\n",
            "\n",
            "Extrayendo texto del PDF...\n",
            "\n",
            "Detectando idioma del texto...\n",
            "Idioma detectado: pt\n",
            "\n",
            "Generando resumen con Gemini...\n",
            "\n",
            "Traduciendo resumen al español con Gemini...\n",
            "\n",
            "Resumen final en español:\n",
            "\n",
            "Este texto marca el inicio de una colección de relatos firmados por Edgar Allan Poe. En primer lugar, se nos brinda una breve panorámica de la colección, desgranando los temas y estilos que la vertebran, tales como el horror, lo sobrenatural, lo satírico y lo metafísico. Se realza el uso de la narración en primera persona, así como la huella imborrable que dejó Poe en la gestación del género policial.\n",
            "\n",
            "Acto seguido, se da paso al primer relato de la colección, \"Metzengerstein\". Ambientada en la fascinante Hungría, la historia gira en torno a la enconada rivalidad entre las familias Berlifitzing y Metzengerstein, avivada por una profecía ancestral. El foco se sitúa en Wilhelm, el anciano conde Berlifitzing, y en Frederick, el joven barón Metzengerstein, tras un incendio que arrasa los establos de los Berlifitzing. Un caballo misterioso y salvaje llega a manos de Frederick, un equino que parece guardar relación con el incendio y con una enigmática figura plasmada en un tapiz familiar. La historia avanza al ritmo de la creciente obsesión de Frederick por el caballo y los sucesos inexplicables que se desencadenan a su alrededor. \n",
            "\n"
          ]
        }
      ],
      "source": [
        "def subir_pdf():\n",
        "    \"\"\"Permite al usuario subir un archivo PDF en Google Colab.\"\"\"\n",
        "    print(\"Por favor, sube un archivo PDF.\")\n",
        "    archivo = files.upload()  # Subir el archivo PDF\n",
        "    nombre_archivo = list(archivo.keys())[0]  # Obtener el nombre del archivo\n",
        "    print(f\"Archivo '{nombre_archivo}' subido exitosamente.\")\n",
        "    return nombre_archivo\n",
        "\n",
        "def extraer_texto_pdf(ruta_pdf):\n",
        "    \"\"\"Extrae el texto de un PDF usando LangChain.\"\"\"\n",
        "    loader = PyPDFLoader(ruta_pdf)\n",
        "    documentos = loader.load()\n",
        "    texto = \"\\n\".join([doc.page_content for doc in documentos])\n",
        "    return texto if texto.strip() else \"No se encontró texto en el PDF.\"\n",
        "\n",
        "def detectar_idioma(texto):\n",
        "    \"\"\"Detecta el idioma del texto usando langdetect.\"\"\"\n",
        "    try:\n",
        "        idioma = detect(texto)\n",
        "        return idioma\n",
        "    except Exception as e:\n",
        "        return f\"Error al detectar idioma: {e}\"\n",
        "\n",
        "def resumir_texto_con_gemini(texto):\n",
        "    \"\"\"Resume el texto usando Gemini con LangChain.\"\"\"\n",
        "    try:\n",
        "        respuesta = llm.invoke([HumanMessage(content=f\"Resume el siguiente texto:\\n\\n{texto}\")])\n",
        "        return respuesta.content if respuesta else \"No se pudo generar un resumen.\"\n",
        "    except Exception as e:\n",
        "        return f\"Error al generar resumen: {e}\"\n",
        "\n",
        "def traducir_texto_con_gemini(texto, idioma_origen, idioma_destino=\"es\"):\n",
        "    \"\"\"Traduce el texto al español si no está en español usando Gemini con LangChain.\"\"\"\n",
        "    if idioma_origen == idioma_destino:\n",
        "        return texto  # No necesita traducción\n",
        "    try:\n",
        "        respuesta = llm.invoke([HumanMessage(content=f\"Traduce al español este texto:\\n\\n{texto}\")])\n",
        "        return respuesta.content if respuesta else \"Error en la traducción.\"\n",
        "    except Exception as e:\n",
        "        return f\"Error al traducir: {e}\"\n",
        "\n",
        "def resumir_pdf():\n",
        "    \"\"\"Sube un PDF, extrae su texto, detecta su idioma, resume y traduce a español si es necesario.\"\"\"\n",
        "    ruta_pdf = subir_pdf()\n",
        "    print(\"\\nExtrayendo texto del PDF...\")\n",
        "    texto = extraer_texto_pdf(ruta_pdf)\n",
        "\n",
        "    if \"Error\" in texto:\n",
        "        print(texto)\n",
        "        return\n",
        "\n",
        "    print(\"\\nDetectando idioma del texto...\")\n",
        "    idioma_origen = detectar_idioma(texto)\n",
        "    print(f\"Idioma detectado: {idioma_origen}\")\n",
        "\n",
        "    print(\"\\nGenerando resumen con Gemini...\")\n",
        "    resumen = resumir_texto_con_gemini(texto)\n",
        "\n",
        "    if idioma_origen != \"es\":\n",
        "        print(\"\\nTraduciendo resumen al español con Gemini...\")\n",
        "        resumen = traducir_texto_con_gemini(resumen, idioma_origen)\n",
        "\n",
        "    print(\"\\nResumen final en español:\\n\")\n",
        "    print(resumen)\n",
        "\n",
        "# Llamar a la función para iniciar el proceso\n",
        "resumir_pdf()"
      ]
    }
  ],
  "metadata": {
    "colab": {
      "provenance": [],
      "authorship_tag": "ABX9TyP2vm31eqz689TbRfCSx7eM",
      "include_colab_link": true
    },
    "kernelspec": {
      "display_name": "Python 3",
      "name": "python3"
    },
    "language_info": {
      "name": "python"
    }
  },
  "nbformat": 4,
  "nbformat_minor": 0
}